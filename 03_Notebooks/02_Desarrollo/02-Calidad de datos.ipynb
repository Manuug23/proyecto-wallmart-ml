{
 "cells": [
  {
   "cell_type": "markdown",
   "id": "cbf3e34c-5557-440b-80d3-faab836c08a2",
   "metadata": {},
   "source": [
    "### Importar paquetes"
   ]
  },
  {
   "cell_type": "code",
   "execution_count": 1,
   "id": "25868f8d-e88b-4769-a28c-e14ffbdc1ce3",
   "metadata": {},
   "outputs": [],
   "source": [
    "import pandas as pd\n",
    "import numpy as np\n",
    "import matplotlib.pyplot as plt\n",
    "import seaborn as sns\n",
    "\n",
    "%config IPCompleter.greedy = True\n",
    "pd.options.display.float_format = '{:.2f}'.format"
   ]
  },
  {
   "cell_type": "markdown",
   "id": "c17370be-f80f-43f1-978e-f958b085b7e6",
   "metadata": {},
   "source": [
    "### Importar datos"
   ]
  },
  {
   "cell_type": "code",
   "execution_count": 2,
   "id": "67ed5eaa-2c2b-46bc-945b-de07b057eec2",
   "metadata": {},
   "outputs": [],
   "source": [
    "ruta_proyecto = r'C:\\Users\\manug\\Desktop\\Data Science\\DataSets\\Wall-Mart\\wallmart\\\\'"
   ]
  },
  {
   "cell_type": "code",
   "execution_count": 3,
   "id": "01a7903b-5c92-463b-94af-681bd0a7c2db",
   "metadata": {},
   "outputs": [],
   "source": [
    "nombre_fichero_datos = 'trabajo.csv'"
   ]
  },
  {
   "cell_type": "code",
   "execution_count": 4,
   "id": "0fd7dc10-2696-4aa6-8c3b-ede2720be98c",
   "metadata": {},
   "outputs": [],
   "source": [
    "ruta_completa = ruta_proyecto + '/02_Datos/03_Trabajo/' + nombre_fichero_datos"
   ]
  },
  {
   "cell_type": "code",
   "execution_count": 5,
   "id": "2f0ada64-1ad8-4a87-b28c-4de94b276725",
   "metadata": {
    "scrolled": true
   },
   "outputs": [],
   "source": [
    "df = pd.read_csv(ruta_completa, parse_dates=['Date'])"
   ]
  },
  {
   "cell_type": "code",
   "execution_count": 6,
   "id": "518f8e9e-7962-429c-a288-e3f6295cf9df",
   "metadata": {},
   "outputs": [
    {
     "data": {
      "text/html": [
       "<div>\n",
       "<style scoped>\n",
       "    .dataframe tbody tr th:only-of-type {\n",
       "        vertical-align: middle;\n",
       "    }\n",
       "\n",
       "    .dataframe tbody tr th {\n",
       "        vertical-align: top;\n",
       "    }\n",
       "\n",
       "    .dataframe thead th {\n",
       "        text-align: right;\n",
       "    }\n",
       "</style>\n",
       "<table border=\"1\" class=\"dataframe\">\n",
       "  <thead>\n",
       "    <tr style=\"text-align: right;\">\n",
       "      <th></th>\n",
       "      <th>Date</th>\n",
       "      <th>Store</th>\n",
       "      <th>Temperature</th>\n",
       "      <th>Fuel_Price</th>\n",
       "      <th>MarkDown1</th>\n",
       "      <th>MarkDown2</th>\n",
       "      <th>MarkDown3</th>\n",
       "      <th>MarkDown4</th>\n",
       "      <th>MarkDown5</th>\n",
       "      <th>CPI</th>\n",
       "      <th>Unemployment</th>\n",
       "      <th>IsHoliday</th>\n",
       "      <th>Type</th>\n",
       "      <th>Size</th>\n",
       "      <th>Dept</th>\n",
       "      <th>Weekly_Sales</th>\n",
       "    </tr>\n",
       "  </thead>\n",
       "  <tbody>\n",
       "    <tr>\n",
       "      <th>0</th>\n",
       "      <td>2010-02-05</td>\n",
       "      <td>1</td>\n",
       "      <td>42.31</td>\n",
       "      <td>2.57</td>\n",
       "      <td>NaN</td>\n",
       "      <td>NaN</td>\n",
       "      <td>NaN</td>\n",
       "      <td>NaN</td>\n",
       "      <td>NaN</td>\n",
       "      <td>211.10</td>\n",
       "      <td>8.11</td>\n",
       "      <td>False</td>\n",
       "      <td>A</td>\n",
       "      <td>151315</td>\n",
       "      <td>1.00</td>\n",
       "      <td>24924.50</td>\n",
       "    </tr>\n",
       "    <tr>\n",
       "      <th>1</th>\n",
       "      <td>2010-02-05</td>\n",
       "      <td>1</td>\n",
       "      <td>42.31</td>\n",
       "      <td>2.57</td>\n",
       "      <td>NaN</td>\n",
       "      <td>NaN</td>\n",
       "      <td>NaN</td>\n",
       "      <td>NaN</td>\n",
       "      <td>NaN</td>\n",
       "      <td>211.10</td>\n",
       "      <td>8.11</td>\n",
       "      <td>False</td>\n",
       "      <td>A</td>\n",
       "      <td>151315</td>\n",
       "      <td>2.00</td>\n",
       "      <td>50605.27</td>\n",
       "    </tr>\n",
       "    <tr>\n",
       "      <th>2</th>\n",
       "      <td>2010-02-05</td>\n",
       "      <td>1</td>\n",
       "      <td>42.31</td>\n",
       "      <td>2.57</td>\n",
       "      <td>NaN</td>\n",
       "      <td>NaN</td>\n",
       "      <td>NaN</td>\n",
       "      <td>NaN</td>\n",
       "      <td>NaN</td>\n",
       "      <td>211.10</td>\n",
       "      <td>8.11</td>\n",
       "      <td>False</td>\n",
       "      <td>A</td>\n",
       "      <td>151315</td>\n",
       "      <td>3.00</td>\n",
       "      <td>13740.12</td>\n",
       "    </tr>\n",
       "    <tr>\n",
       "      <th>3</th>\n",
       "      <td>2010-02-05</td>\n",
       "      <td>1</td>\n",
       "      <td>42.31</td>\n",
       "      <td>2.57</td>\n",
       "      <td>NaN</td>\n",
       "      <td>NaN</td>\n",
       "      <td>NaN</td>\n",
       "      <td>NaN</td>\n",
       "      <td>NaN</td>\n",
       "      <td>211.10</td>\n",
       "      <td>8.11</td>\n",
       "      <td>False</td>\n",
       "      <td>A</td>\n",
       "      <td>151315</td>\n",
       "      <td>4.00</td>\n",
       "      <td>39954.04</td>\n",
       "    </tr>\n",
       "    <tr>\n",
       "      <th>4</th>\n",
       "      <td>2010-02-05</td>\n",
       "      <td>1</td>\n",
       "      <td>42.31</td>\n",
       "      <td>2.57</td>\n",
       "      <td>NaN</td>\n",
       "      <td>NaN</td>\n",
       "      <td>NaN</td>\n",
       "      <td>NaN</td>\n",
       "      <td>NaN</td>\n",
       "      <td>211.10</td>\n",
       "      <td>8.11</td>\n",
       "      <td>False</td>\n",
       "      <td>A</td>\n",
       "      <td>151315</td>\n",
       "      <td>5.00</td>\n",
       "      <td>32229.38</td>\n",
       "    </tr>\n",
       "    <tr>\n",
       "      <th>...</th>\n",
       "      <td>...</td>\n",
       "      <td>...</td>\n",
       "      <td>...</td>\n",
       "      <td>...</td>\n",
       "      <td>...</td>\n",
       "      <td>...</td>\n",
       "      <td>...</td>\n",
       "      <td>...</td>\n",
       "      <td>...</td>\n",
       "      <td>...</td>\n",
       "      <td>...</td>\n",
       "      <td>...</td>\n",
       "      <td>...</td>\n",
       "      <td>...</td>\n",
       "      <td>...</td>\n",
       "      <td>...</td>\n",
       "    </tr>\n",
       "    <tr>\n",
       "      <th>380102</th>\n",
       "      <td>2012-07-20</td>\n",
       "      <td>45</td>\n",
       "      <td>78.89</td>\n",
       "      <td>3.57</td>\n",
       "      <td>6682.75</td>\n",
       "      <td>24.24</td>\n",
       "      <td>12.83</td>\n",
       "      <td>2249.85</td>\n",
       "      <td>2288.30</td>\n",
       "      <td>191.17</td>\n",
       "      <td>8.68</td>\n",
       "      <td>False</td>\n",
       "      <td>B</td>\n",
       "      <td>118221</td>\n",
       "      <td>93.00</td>\n",
       "      <td>3568.64</td>\n",
       "    </tr>\n",
       "    <tr>\n",
       "      <th>380103</th>\n",
       "      <td>2012-07-20</td>\n",
       "      <td>45</td>\n",
       "      <td>78.89</td>\n",
       "      <td>3.57</td>\n",
       "      <td>6682.75</td>\n",
       "      <td>24.24</td>\n",
       "      <td>12.83</td>\n",
       "      <td>2249.85</td>\n",
       "      <td>2288.30</td>\n",
       "      <td>191.17</td>\n",
       "      <td>8.68</td>\n",
       "      <td>False</td>\n",
       "      <td>B</td>\n",
       "      <td>118221</td>\n",
       "      <td>94.00</td>\n",
       "      <td>3618.52</td>\n",
       "    </tr>\n",
       "    <tr>\n",
       "      <th>380104</th>\n",
       "      <td>2012-07-20</td>\n",
       "      <td>45</td>\n",
       "      <td>78.89</td>\n",
       "      <td>3.57</td>\n",
       "      <td>6682.75</td>\n",
       "      <td>24.24</td>\n",
       "      <td>12.83</td>\n",
       "      <td>2249.85</td>\n",
       "      <td>2288.30</td>\n",
       "      <td>191.17</td>\n",
       "      <td>8.68</td>\n",
       "      <td>False</td>\n",
       "      <td>B</td>\n",
       "      <td>118221</td>\n",
       "      <td>95.00</td>\n",
       "      <td>53136.34</td>\n",
       "    </tr>\n",
       "    <tr>\n",
       "      <th>380105</th>\n",
       "      <td>2012-07-20</td>\n",
       "      <td>45</td>\n",
       "      <td>78.89</td>\n",
       "      <td>3.57</td>\n",
       "      <td>6682.75</td>\n",
       "      <td>24.24</td>\n",
       "      <td>12.83</td>\n",
       "      <td>2249.85</td>\n",
       "      <td>2288.30</td>\n",
       "      <td>191.17</td>\n",
       "      <td>8.68</td>\n",
       "      <td>False</td>\n",
       "      <td>B</td>\n",
       "      <td>118221</td>\n",
       "      <td>97.00</td>\n",
       "      <td>6902.68</td>\n",
       "    </tr>\n",
       "    <tr>\n",
       "      <th>380106</th>\n",
       "      <td>2012-07-20</td>\n",
       "      <td>45</td>\n",
       "      <td>78.89</td>\n",
       "      <td>3.57</td>\n",
       "      <td>6682.75</td>\n",
       "      <td>24.24</td>\n",
       "      <td>12.83</td>\n",
       "      <td>2249.85</td>\n",
       "      <td>2288.30</td>\n",
       "      <td>191.17</td>\n",
       "      <td>8.68</td>\n",
       "      <td>False</td>\n",
       "      <td>B</td>\n",
       "      <td>118221</td>\n",
       "      <td>98.00</td>\n",
       "      <td>845.30</td>\n",
       "    </tr>\n",
       "  </tbody>\n",
       "</table>\n",
       "<p>380107 rows × 16 columns</p>\n",
       "</div>"
      ],
      "text/plain": [
       "             Date  Store  Temperature  Fuel_Price  MarkDown1  MarkDown2  \\\n",
       "0      2010-02-05      1        42.31        2.57        NaN        NaN   \n",
       "1      2010-02-05      1        42.31        2.57        NaN        NaN   \n",
       "2      2010-02-05      1        42.31        2.57        NaN        NaN   \n",
       "3      2010-02-05      1        42.31        2.57        NaN        NaN   \n",
       "4      2010-02-05      1        42.31        2.57        NaN        NaN   \n",
       "...           ...    ...          ...         ...        ...        ...   \n",
       "380102 2012-07-20     45        78.89        3.57    6682.75      24.24   \n",
       "380103 2012-07-20     45        78.89        3.57    6682.75      24.24   \n",
       "380104 2012-07-20     45        78.89        3.57    6682.75      24.24   \n",
       "380105 2012-07-20     45        78.89        3.57    6682.75      24.24   \n",
       "380106 2012-07-20     45        78.89        3.57    6682.75      24.24   \n",
       "\n",
       "        MarkDown3  MarkDown4  MarkDown5    CPI  Unemployment  IsHoliday Type  \\\n",
       "0             NaN        NaN        NaN 211.10          8.11      False    A   \n",
       "1             NaN        NaN        NaN 211.10          8.11      False    A   \n",
       "2             NaN        NaN        NaN 211.10          8.11      False    A   \n",
       "3             NaN        NaN        NaN 211.10          8.11      False    A   \n",
       "4             NaN        NaN        NaN 211.10          8.11      False    A   \n",
       "...           ...        ...        ...    ...           ...        ...  ...   \n",
       "380102      12.83    2249.85    2288.30 191.17          8.68      False    B   \n",
       "380103      12.83    2249.85    2288.30 191.17          8.68      False    B   \n",
       "380104      12.83    2249.85    2288.30 191.17          8.68      False    B   \n",
       "380105      12.83    2249.85    2288.30 191.17          8.68      False    B   \n",
       "380106      12.83    2249.85    2288.30 191.17          8.68      False    B   \n",
       "\n",
       "          Size  Dept  Weekly_Sales  \n",
       "0       151315  1.00      24924.50  \n",
       "1       151315  2.00      50605.27  \n",
       "2       151315  3.00      13740.12  \n",
       "3       151315  4.00      39954.04  \n",
       "4       151315  5.00      32229.38  \n",
       "...        ...   ...           ...  \n",
       "380102  118221 93.00       3568.64  \n",
       "380103  118221 94.00       3618.52  \n",
       "380104  118221 95.00      53136.34  \n",
       "380105  118221 97.00       6902.68  \n",
       "380106  118221 98.00        845.30  \n",
       "\n",
       "[380107 rows x 16 columns]"
      ]
     },
     "execution_count": 6,
     "metadata": {},
     "output_type": "execute_result"
    }
   ],
   "source": [
    "df"
   ]
  },
  {
   "cell_type": "markdown",
   "id": "011ca15a-b734-42b5-b35a-f2d4e5b4638f",
   "metadata": {},
   "source": [
    "### Corrección titulos"
   ]
  },
  {
   "cell_type": "code",
   "execution_count": 7,
   "id": "60d3cbf7-87ec-443a-a3ba-80281b791e03",
   "metadata": {},
   "outputs": [],
   "source": [
    "from janitor import clean_names"
   ]
  },
  {
   "cell_type": "code",
   "execution_count": 8,
   "id": "ba875842-621c-46e2-9e4d-8c883e6c8090",
   "metadata": {},
   "outputs": [],
   "source": [
    "df = clean_names(df).set_index('date')"
   ]
  },
  {
   "cell_type": "code",
   "execution_count": 9,
   "id": "709b6bee-17aa-4581-8f62-4e0913e33e77",
   "metadata": {},
   "outputs": [
    {
     "data": {
      "text/html": [
       "<div>\n",
       "<style scoped>\n",
       "    .dataframe tbody tr th:only-of-type {\n",
       "        vertical-align: middle;\n",
       "    }\n",
       "\n",
       "    .dataframe tbody tr th {\n",
       "        vertical-align: top;\n",
       "    }\n",
       "\n",
       "    .dataframe thead th {\n",
       "        text-align: right;\n",
       "    }\n",
       "</style>\n",
       "<table border=\"1\" class=\"dataframe\">\n",
       "  <thead>\n",
       "    <tr style=\"text-align: right;\">\n",
       "      <th></th>\n",
       "      <th>store</th>\n",
       "      <th>temperature</th>\n",
       "      <th>fuel_price</th>\n",
       "      <th>markdown1</th>\n",
       "      <th>markdown2</th>\n",
       "      <th>markdown3</th>\n",
       "      <th>markdown4</th>\n",
       "      <th>markdown5</th>\n",
       "      <th>cpi</th>\n",
       "      <th>unemployment</th>\n",
       "      <th>isholiday</th>\n",
       "      <th>type</th>\n",
       "      <th>size</th>\n",
       "      <th>dept</th>\n",
       "      <th>weekly_sales</th>\n",
       "    </tr>\n",
       "    <tr>\n",
       "      <th>date</th>\n",
       "      <th></th>\n",
       "      <th></th>\n",
       "      <th></th>\n",
       "      <th></th>\n",
       "      <th></th>\n",
       "      <th></th>\n",
       "      <th></th>\n",
       "      <th></th>\n",
       "      <th></th>\n",
       "      <th></th>\n",
       "      <th></th>\n",
       "      <th></th>\n",
       "      <th></th>\n",
       "      <th></th>\n",
       "      <th></th>\n",
       "    </tr>\n",
       "  </thead>\n",
       "  <tbody>\n",
       "    <tr>\n",
       "      <th>2010-02-05</th>\n",
       "      <td>1</td>\n",
       "      <td>42.31</td>\n",
       "      <td>2.57</td>\n",
       "      <td>NaN</td>\n",
       "      <td>NaN</td>\n",
       "      <td>NaN</td>\n",
       "      <td>NaN</td>\n",
       "      <td>NaN</td>\n",
       "      <td>211.10</td>\n",
       "      <td>8.11</td>\n",
       "      <td>False</td>\n",
       "      <td>A</td>\n",
       "      <td>151315</td>\n",
       "      <td>1.00</td>\n",
       "      <td>24924.50</td>\n",
       "    </tr>\n",
       "    <tr>\n",
       "      <th>2010-02-05</th>\n",
       "      <td>1</td>\n",
       "      <td>42.31</td>\n",
       "      <td>2.57</td>\n",
       "      <td>NaN</td>\n",
       "      <td>NaN</td>\n",
       "      <td>NaN</td>\n",
       "      <td>NaN</td>\n",
       "      <td>NaN</td>\n",
       "      <td>211.10</td>\n",
       "      <td>8.11</td>\n",
       "      <td>False</td>\n",
       "      <td>A</td>\n",
       "      <td>151315</td>\n",
       "      <td>2.00</td>\n",
       "      <td>50605.27</td>\n",
       "    </tr>\n",
       "    <tr>\n",
       "      <th>2010-02-05</th>\n",
       "      <td>1</td>\n",
       "      <td>42.31</td>\n",
       "      <td>2.57</td>\n",
       "      <td>NaN</td>\n",
       "      <td>NaN</td>\n",
       "      <td>NaN</td>\n",
       "      <td>NaN</td>\n",
       "      <td>NaN</td>\n",
       "      <td>211.10</td>\n",
       "      <td>8.11</td>\n",
       "      <td>False</td>\n",
       "      <td>A</td>\n",
       "      <td>151315</td>\n",
       "      <td>3.00</td>\n",
       "      <td>13740.12</td>\n",
       "    </tr>\n",
       "    <tr>\n",
       "      <th>2010-02-05</th>\n",
       "      <td>1</td>\n",
       "      <td>42.31</td>\n",
       "      <td>2.57</td>\n",
       "      <td>NaN</td>\n",
       "      <td>NaN</td>\n",
       "      <td>NaN</td>\n",
       "      <td>NaN</td>\n",
       "      <td>NaN</td>\n",
       "      <td>211.10</td>\n",
       "      <td>8.11</td>\n",
       "      <td>False</td>\n",
       "      <td>A</td>\n",
       "      <td>151315</td>\n",
       "      <td>4.00</td>\n",
       "      <td>39954.04</td>\n",
       "    </tr>\n",
       "    <tr>\n",
       "      <th>2010-02-05</th>\n",
       "      <td>1</td>\n",
       "      <td>42.31</td>\n",
       "      <td>2.57</td>\n",
       "      <td>NaN</td>\n",
       "      <td>NaN</td>\n",
       "      <td>NaN</td>\n",
       "      <td>NaN</td>\n",
       "      <td>NaN</td>\n",
       "      <td>211.10</td>\n",
       "      <td>8.11</td>\n",
       "      <td>False</td>\n",
       "      <td>A</td>\n",
       "      <td>151315</td>\n",
       "      <td>5.00</td>\n",
       "      <td>32229.38</td>\n",
       "    </tr>\n",
       "    <tr>\n",
       "      <th>...</th>\n",
       "      <td>...</td>\n",
       "      <td>...</td>\n",
       "      <td>...</td>\n",
       "      <td>...</td>\n",
       "      <td>...</td>\n",
       "      <td>...</td>\n",
       "      <td>...</td>\n",
       "      <td>...</td>\n",
       "      <td>...</td>\n",
       "      <td>...</td>\n",
       "      <td>...</td>\n",
       "      <td>...</td>\n",
       "      <td>...</td>\n",
       "      <td>...</td>\n",
       "      <td>...</td>\n",
       "    </tr>\n",
       "    <tr>\n",
       "      <th>2012-07-20</th>\n",
       "      <td>45</td>\n",
       "      <td>78.89</td>\n",
       "      <td>3.57</td>\n",
       "      <td>6682.75</td>\n",
       "      <td>24.24</td>\n",
       "      <td>12.83</td>\n",
       "      <td>2249.85</td>\n",
       "      <td>2288.30</td>\n",
       "      <td>191.17</td>\n",
       "      <td>8.68</td>\n",
       "      <td>False</td>\n",
       "      <td>B</td>\n",
       "      <td>118221</td>\n",
       "      <td>93.00</td>\n",
       "      <td>3568.64</td>\n",
       "    </tr>\n",
       "    <tr>\n",
       "      <th>2012-07-20</th>\n",
       "      <td>45</td>\n",
       "      <td>78.89</td>\n",
       "      <td>3.57</td>\n",
       "      <td>6682.75</td>\n",
       "      <td>24.24</td>\n",
       "      <td>12.83</td>\n",
       "      <td>2249.85</td>\n",
       "      <td>2288.30</td>\n",
       "      <td>191.17</td>\n",
       "      <td>8.68</td>\n",
       "      <td>False</td>\n",
       "      <td>B</td>\n",
       "      <td>118221</td>\n",
       "      <td>94.00</td>\n",
       "      <td>3618.52</td>\n",
       "    </tr>\n",
       "    <tr>\n",
       "      <th>2012-07-20</th>\n",
       "      <td>45</td>\n",
       "      <td>78.89</td>\n",
       "      <td>3.57</td>\n",
       "      <td>6682.75</td>\n",
       "      <td>24.24</td>\n",
       "      <td>12.83</td>\n",
       "      <td>2249.85</td>\n",
       "      <td>2288.30</td>\n",
       "      <td>191.17</td>\n",
       "      <td>8.68</td>\n",
       "      <td>False</td>\n",
       "      <td>B</td>\n",
       "      <td>118221</td>\n",
       "      <td>95.00</td>\n",
       "      <td>53136.34</td>\n",
       "    </tr>\n",
       "    <tr>\n",
       "      <th>2012-07-20</th>\n",
       "      <td>45</td>\n",
       "      <td>78.89</td>\n",
       "      <td>3.57</td>\n",
       "      <td>6682.75</td>\n",
       "      <td>24.24</td>\n",
       "      <td>12.83</td>\n",
       "      <td>2249.85</td>\n",
       "      <td>2288.30</td>\n",
       "      <td>191.17</td>\n",
       "      <td>8.68</td>\n",
       "      <td>False</td>\n",
       "      <td>B</td>\n",
       "      <td>118221</td>\n",
       "      <td>97.00</td>\n",
       "      <td>6902.68</td>\n",
       "    </tr>\n",
       "    <tr>\n",
       "      <th>2012-07-20</th>\n",
       "      <td>45</td>\n",
       "      <td>78.89</td>\n",
       "      <td>3.57</td>\n",
       "      <td>6682.75</td>\n",
       "      <td>24.24</td>\n",
       "      <td>12.83</td>\n",
       "      <td>2249.85</td>\n",
       "      <td>2288.30</td>\n",
       "      <td>191.17</td>\n",
       "      <td>8.68</td>\n",
       "      <td>False</td>\n",
       "      <td>B</td>\n",
       "      <td>118221</td>\n",
       "      <td>98.00</td>\n",
       "      <td>845.30</td>\n",
       "    </tr>\n",
       "  </tbody>\n",
       "</table>\n",
       "<p>380107 rows × 15 columns</p>\n",
       "</div>"
      ],
      "text/plain": [
       "            store  temperature  fuel_price  markdown1  markdown2  markdown3  \\\n",
       "date                                                                          \n",
       "2010-02-05      1        42.31        2.57        NaN        NaN        NaN   \n",
       "2010-02-05      1        42.31        2.57        NaN        NaN        NaN   \n",
       "2010-02-05      1        42.31        2.57        NaN        NaN        NaN   \n",
       "2010-02-05      1        42.31        2.57        NaN        NaN        NaN   \n",
       "2010-02-05      1        42.31        2.57        NaN        NaN        NaN   \n",
       "...           ...          ...         ...        ...        ...        ...   \n",
       "2012-07-20     45        78.89        3.57    6682.75      24.24      12.83   \n",
       "2012-07-20     45        78.89        3.57    6682.75      24.24      12.83   \n",
       "2012-07-20     45        78.89        3.57    6682.75      24.24      12.83   \n",
       "2012-07-20     45        78.89        3.57    6682.75      24.24      12.83   \n",
       "2012-07-20     45        78.89        3.57    6682.75      24.24      12.83   \n",
       "\n",
       "            markdown4  markdown5    cpi  unemployment  isholiday type    size  \\\n",
       "date                                                                            \n",
       "2010-02-05        NaN        NaN 211.10          8.11      False    A  151315   \n",
       "2010-02-05        NaN        NaN 211.10          8.11      False    A  151315   \n",
       "2010-02-05        NaN        NaN 211.10          8.11      False    A  151315   \n",
       "2010-02-05        NaN        NaN 211.10          8.11      False    A  151315   \n",
       "2010-02-05        NaN        NaN 211.10          8.11      False    A  151315   \n",
       "...               ...        ...    ...           ...        ...  ...     ...   \n",
       "2012-07-20    2249.85    2288.30 191.17          8.68      False    B  118221   \n",
       "2012-07-20    2249.85    2288.30 191.17          8.68      False    B  118221   \n",
       "2012-07-20    2249.85    2288.30 191.17          8.68      False    B  118221   \n",
       "2012-07-20    2249.85    2288.30 191.17          8.68      False    B  118221   \n",
       "2012-07-20    2249.85    2288.30 191.17          8.68      False    B  118221   \n",
       "\n",
       "            dept  weekly_sales  \n",
       "date                            \n",
       "2010-02-05  1.00      24924.50  \n",
       "2010-02-05  2.00      50605.27  \n",
       "2010-02-05  3.00      13740.12  \n",
       "2010-02-05  4.00      39954.04  \n",
       "2010-02-05  5.00      32229.38  \n",
       "...          ...           ...  \n",
       "2012-07-20 93.00       3568.64  \n",
       "2012-07-20 94.00       3618.52  \n",
       "2012-07-20 95.00      53136.34  \n",
       "2012-07-20 97.00       6902.68  \n",
       "2012-07-20 98.00        845.30  \n",
       "\n",
       "[380107 rows x 15 columns]"
      ]
     },
     "execution_count": 9,
     "metadata": {},
     "output_type": "execute_result"
    }
   ],
   "source": [
    "df"
   ]
  },
  {
   "cell_type": "markdown",
   "id": "eab28e90-1220-4767-b275-92ce603d62b9",
   "metadata": {},
   "source": [
    "### Visión general"
   ]
  },
  {
   "cell_type": "code",
   "execution_count": 12,
   "id": "c3ee324d-561a-4ed1-8915-38a2a3eaa5cd",
   "metadata": {},
   "outputs": [
    {
     "name": "stdout",
     "output_type": "stream",
     "text": [
      "<class 'pandas.core.frame.DataFrame'>\n",
      "DatetimeIndex: 380107 entries, 2010-02-05 to 2012-07-20\n",
      "Data columns (total 15 columns):\n",
      " #   Column        Non-Null Count   Dtype  \n",
      "---  ------        --------------   -----  \n",
      " 0   store         380107 non-null  int64  \n",
      " 1   temperature   380107 non-null  float64\n",
      " 2   fuel_price    380107 non-null  float64\n",
      " 3   markdown1     109526 non-null  float64\n",
      " 4   markdown2     86231 non-null   float64\n",
      " 5   markdown3     99205 non-null   float64\n",
      " 6   markdown4     97626 non-null   float64\n",
      " 7   markdown5     109969 non-null  float64\n",
      " 8   cpi           380107 non-null  float64\n",
      " 9   unemployment  380107 non-null  float64\n",
      " 10  isholiday     380107 non-null  object \n",
      " 11  type          380107 non-null  object \n",
      " 12  size          380107 non-null  int64  \n",
      " 13  dept          380107 non-null  int64  \n",
      " 14  weekly_sales  380107 non-null  float64\n",
      "dtypes: float64(10), int64(3), object(2)\n",
      "memory usage: 46.4+ MB\n"
     ]
    }
   ],
   "source": [
    "df.info()"
   ]
  },
  {
   "cell_type": "markdown",
   "id": "5e92a0e0-7625-42a3-8f00-19872f4f6226",
   "metadata": {},
   "source": [
    "### Corrección de tipos de datos"
   ]
  },
  {
   "cell_type": "code",
   "execution_count": 11,
   "id": "469aca7e-5b7f-4bc4-b4d8-73708a8efd69",
   "metadata": {},
   "outputs": [],
   "source": [
    "df = df.astype({'isholiday':'O', 'dept':'int64'})"
   ]
  },
  {
   "cell_type": "markdown",
   "id": "a1766eb4-41c4-4547-be56-c2ac0eb3004a",
   "metadata": {},
   "source": [
    "### Valores unicos"
   ]
  },
  {
   "cell_type": "code",
   "execution_count": 13,
   "id": "dabb25f2-bd2a-46e6-89c1-74a2a01826cc",
   "metadata": {},
   "outputs": [
    {
     "data": {
      "text/plain": [
       "isholiday            2\n",
       "type                 3\n",
       "size                40\n",
       "store               45\n",
       "dept                81\n",
       "unemployment       321\n",
       "fuel_price         838\n",
       "markdown2         1201\n",
       "markdown3         1279\n",
       "markdown4         1396\n",
       "markdown1         1654\n",
       "markdown5         1665\n",
       "cpi               1935\n",
       "temperature       3299\n",
       "weekly_sales    326423\n",
       "dtype: int64"
      ]
     },
     "execution_count": 13,
     "metadata": {},
     "output_type": "execute_result"
    }
   ],
   "source": [
    "df.nunique().sort_values()"
   ]
  },
  {
   "cell_type": "markdown",
   "id": "a4e2b3aa-9b10-42af-94aa-19c40cc23d3b",
   "metadata": {},
   "source": [
    "### Duplicados"
   ]
  },
  {
   "cell_type": "code",
   "execution_count": 14,
   "id": "def3e9ff-2f86-424b-aeb5-ce2dcf22e0a4",
   "metadata": {},
   "outputs": [
    {
     "data": {
      "text/plain": [
       "0"
      ]
     },
     "execution_count": 14,
     "metadata": {},
     "output_type": "execute_result"
    }
   ],
   "source": [
    "df.duplicated().sum()"
   ]
  },
  {
   "cell_type": "markdown",
   "id": "ca634395-2a54-4420-ba6f-1af167fdf7ca",
   "metadata": {},
   "source": [
    "### Separar numéricas y categóricas"
   ]
  },
  {
   "cell_type": "markdown",
   "id": "6369242e-7b84-453f-ab8b-a2f988810ec8",
   "metadata": {},
   "source": [
    "#### Numéricas"
   ]
  },
  {
   "cell_type": "code",
   "execution_count": 15,
   "id": "d1856664-2a0d-4a60-a46a-0f317ee95130",
   "metadata": {},
   "outputs": [],
   "source": [
    "num = df.select_dtypes(include = 'number').copy()"
   ]
  },
  {
   "cell_type": "code",
   "execution_count": 16,
   "id": "ea50b1fe-2d37-4959-b3ea-b42bd0b8d26e",
   "metadata": {},
   "outputs": [
    {
     "name": "stdout",
     "output_type": "stream",
     "text": [
      "<class 'pandas.core.frame.DataFrame'>\n",
      "DatetimeIndex: 380107 entries, 2010-02-05 to 2012-07-20\n",
      "Data columns (total 13 columns):\n",
      " #   Column        Non-Null Count   Dtype  \n",
      "---  ------        --------------   -----  \n",
      " 0   store         380107 non-null  int64  \n",
      " 1   temperature   380107 non-null  float64\n",
      " 2   fuel_price    380107 non-null  float64\n",
      " 3   markdown1     109526 non-null  float64\n",
      " 4   markdown2     86231 non-null   float64\n",
      " 5   markdown3     99205 non-null   float64\n",
      " 6   markdown4     97626 non-null   float64\n",
      " 7   markdown5     109969 non-null  float64\n",
      " 8   cpi           380107 non-null  float64\n",
      " 9   unemployment  380107 non-null  float64\n",
      " 10  size          380107 non-null  int64  \n",
      " 11  dept          380107 non-null  int64  \n",
      " 12  weekly_sales  380107 non-null  float64\n",
      "dtypes: float64(10), int64(3)\n",
      "memory usage: 40.6 MB\n"
     ]
    }
   ],
   "source": [
    "num.info()"
   ]
  },
  {
   "cell_type": "markdown",
   "id": "4fbf5610-da7c-42d1-b774-b5272ca74b79",
   "metadata": {},
   "source": [
    "#### Categóricas"
   ]
  },
  {
   "cell_type": "code",
   "execution_count": 17,
   "id": "2f2f9045-3cb6-4ac0-9769-53ad1e2a1849",
   "metadata": {},
   "outputs": [],
   "source": [
    "cat = df.select_dtypes(exclude = 'number').copy()"
   ]
  },
  {
   "cell_type": "code",
   "execution_count": 120,
   "id": "4a78479e-c8b1-4f61-85cc-f69c1bc9f571",
   "metadata": {},
   "outputs": [
    {
     "name": "stdout",
     "output_type": "stream",
     "text": [
      "<class 'pandas.core.frame.DataFrame'>\n",
      "DatetimeIndex: 8055 entries, 2010-02-05 to 2013-07-05\n",
      "Data columns (total 2 columns):\n",
      " #   Column     Non-Null Count  Dtype \n",
      "---  ------     --------------  ----- \n",
      " 0   isholiday  8055 non-null   object\n",
      " 1   type       8055 non-null   object\n",
      "dtypes: object(2)\n",
      "memory usage: 188.8+ KB\n"
     ]
    }
   ],
   "source": [
    "cat.info()"
   ]
  },
  {
   "cell_type": "markdown",
   "id": "fc61e803-f9f8-46c0-91da-f70fb6e01d59",
   "metadata": {},
   "source": [
    "### Gestión de categóricas"
   ]
  },
  {
   "cell_type": "markdown",
   "id": "bc677439-9c5f-41fd-9b2b-a35be7fd1a24",
   "metadata": {},
   "source": [
    "#### Nulos"
   ]
  },
  {
   "cell_type": "code",
   "execution_count": 18,
   "id": "14156477-4df4-474c-8447-3b6319d0e8fe",
   "metadata": {},
   "outputs": [
    {
     "data": {
      "text/plain": [
       "isholiday    0\n",
       "type         0\n",
       "dtype: int64"
      ]
     },
     "execution_count": 18,
     "metadata": {},
     "output_type": "execute_result"
    }
   ],
   "source": [
    "cat.isna().sum()"
   ]
  },
  {
   "cell_type": "markdown",
   "id": "ca0d2a39-f297-415a-83da-af5e41e55272",
   "metadata": {},
   "source": [
    "#### Atípicos"
   ]
  },
  {
   "cell_type": "code",
   "execution_count": 19,
   "id": "6cceb514-ab0e-4587-9cc1-dc61b72ace00",
   "metadata": {},
   "outputs": [
    {
     "name": "stdout",
     "output_type": "stream",
     "text": [
      "isholiday\n",
      "\n",
      "isholiday\n",
      "False    353412\n",
      "True      26695\n",
      "Name: count, dtype: int64\n",
      "\n",
      "\n",
      "\n",
      "type\n",
      "\n",
      "type\n",
      "A    194338\n",
      "B    147479\n",
      "C     38290\n",
      "Name: count, dtype: int64\n",
      "\n",
      "\n",
      "\n"
     ]
    }
   ],
   "source": [
    "for variable in cat:\n",
    "    print(variable + '\\n')\n",
    "    print(cat[variable].value_counts(dropna = False))\n",
    "    print('\\n\\n')"
   ]
  },
  {
   "cell_type": "markdown",
   "id": "c7c1c1db-ada5-484a-9bcb-7dcfb5dfe9ed",
   "metadata": {},
   "source": [
    "* isholiday: La menor cantidad de días festivos no es un indicativo de valores atípicos. Refleja una distribución natural de días festivos vs días no festivos.\n",
    "  \n",
    "* type: La menor cantidad de tiendas en la categoría C tampoco indica valores atípicos, sino que refleja una posible estructura de clasificación de las tiendas que es completamente razonable."
   ]
  },
  {
   "cell_type": "markdown",
   "id": "db343df3-fd63-4319-9dfe-7844ac135ca2",
   "metadata": {},
   "source": [
    "### Gestión de numericas"
   ]
  },
  {
   "cell_type": "markdown",
   "id": "0e24e2c8-e4af-456e-9d27-09845a344104",
   "metadata": {},
   "source": [
    "#### Estadísticos"
   ]
  },
  {
   "cell_type": "code",
   "execution_count": 20,
   "id": "842b6b78-f722-45a4-8f3f-f61ec6946a0e",
   "metadata": {},
   "outputs": [
    {
     "data": {
      "text/html": [
       "<div>\n",
       "<style scoped>\n",
       "    .dataframe tbody tr th:only-of-type {\n",
       "        vertical-align: middle;\n",
       "    }\n",
       "\n",
       "    .dataframe tbody tr th {\n",
       "        vertical-align: top;\n",
       "    }\n",
       "\n",
       "    .dataframe thead th {\n",
       "        text-align: right;\n",
       "    }\n",
       "</style>\n",
       "<table border=\"1\" class=\"dataframe\">\n",
       "  <thead>\n",
       "    <tr style=\"text-align: right;\">\n",
       "      <th></th>\n",
       "      <th>count</th>\n",
       "      <th>mean</th>\n",
       "      <th>std</th>\n",
       "      <th>min</th>\n",
       "      <th>25%</th>\n",
       "      <th>50%</th>\n",
       "      <th>75%</th>\n",
       "      <th>max</th>\n",
       "    </tr>\n",
       "  </thead>\n",
       "  <tbody>\n",
       "    <tr>\n",
       "      <th>store</th>\n",
       "      <td>380107.00</td>\n",
       "      <td>22.19</td>\n",
       "      <td>12.78</td>\n",
       "      <td>1.00</td>\n",
       "      <td>11.00</td>\n",
       "      <td>22.00</td>\n",
       "      <td>33.00</td>\n",
       "      <td>45.00</td>\n",
       "    </tr>\n",
       "    <tr>\n",
       "      <th>temperature</th>\n",
       "      <td>380107.00</td>\n",
       "      <td>58.87</td>\n",
       "      <td>18.63</td>\n",
       "      <td>-2.06</td>\n",
       "      <td>45.42</td>\n",
       "      <td>60.13</td>\n",
       "      <td>73.25</td>\n",
       "      <td>100.14</td>\n",
       "    </tr>\n",
       "    <tr>\n",
       "      <th>fuel_price</th>\n",
       "      <td>380107.00</td>\n",
       "      <td>3.32</td>\n",
       "      <td>0.45</td>\n",
       "      <td>2.47</td>\n",
       "      <td>2.88</td>\n",
       "      <td>3.35</td>\n",
       "      <td>3.70</td>\n",
       "      <td>4.31</td>\n",
       "    </tr>\n",
       "    <tr>\n",
       "      <th>markdown1</th>\n",
       "      <td>109526.00</td>\n",
       "      <td>7211.49</td>\n",
       "      <td>8428.39</td>\n",
       "      <td>0.50</td>\n",
       "      <td>2240.27</td>\n",
       "      <td>5425.30</td>\n",
       "      <td>9173.97</td>\n",
       "      <td>88646.76</td>\n",
       "    </tr>\n",
       "    <tr>\n",
       "      <th>markdown2</th>\n",
       "      <td>86231.00</td>\n",
       "      <td>4278.21</td>\n",
       "      <td>10576.70</td>\n",
       "      <td>-265.76</td>\n",
       "      <td>75.36</td>\n",
       "      <td>396.61</td>\n",
       "      <td>3682.17</td>\n",
       "      <td>104519.54</td>\n",
       "    </tr>\n",
       "    <tr>\n",
       "      <th>markdown3</th>\n",
       "      <td>99205.00</td>\n",
       "      <td>1975.30</td>\n",
       "      <td>11266.25</td>\n",
       "      <td>-29.10</td>\n",
       "      <td>5.59</td>\n",
       "      <td>33.85</td>\n",
       "      <td>159.04</td>\n",
       "      <td>141630.61</td>\n",
       "    </tr>\n",
       "    <tr>\n",
       "      <th>markdown4</th>\n",
       "      <td>97626.00</td>\n",
       "      <td>3368.66</td>\n",
       "      <td>6867.91</td>\n",
       "      <td>0.46</td>\n",
       "      <td>446.42</td>\n",
       "      <td>1350.20</td>\n",
       "      <td>3373.11</td>\n",
       "      <td>67474.85</td>\n",
       "    </tr>\n",
       "    <tr>\n",
       "      <th>markdown5</th>\n",
       "      <td>109969.00</td>\n",
       "      <td>4825.76</td>\n",
       "      <td>6694.57</td>\n",
       "      <td>135.16</td>\n",
       "      <td>1889.95</td>\n",
       "      <td>3374.90</td>\n",
       "      <td>5539.68</td>\n",
       "      <td>108519.28</td>\n",
       "    </tr>\n",
       "    <tr>\n",
       "      <th>cpi</th>\n",
       "      <td>380107.00</td>\n",
       "      <td>170.71</td>\n",
       "      <td>38.95</td>\n",
       "      <td>126.06</td>\n",
       "      <td>131.98</td>\n",
       "      <td>182.26</td>\n",
       "      <td>211.77</td>\n",
       "      <td>225.69</td>\n",
       "    </tr>\n",
       "    <tr>\n",
       "      <th>unemployment</th>\n",
       "      <td>380107.00</td>\n",
       "      <td>8.05</td>\n",
       "      <td>1.86</td>\n",
       "      <td>4.08</td>\n",
       "      <td>6.99</td>\n",
       "      <td>7.93</td>\n",
       "      <td>8.60</td>\n",
       "      <td>14.31</td>\n",
       "    </tr>\n",
       "    <tr>\n",
       "      <th>size</th>\n",
       "      <td>380107.00</td>\n",
       "      <td>136769.43</td>\n",
       "      <td>60960.76</td>\n",
       "      <td>34875.00</td>\n",
       "      <td>93638.00</td>\n",
       "      <td>140167.00</td>\n",
       "      <td>202505.00</td>\n",
       "      <td>219622.00</td>\n",
       "    </tr>\n",
       "    <tr>\n",
       "      <th>dept</th>\n",
       "      <td>380107.00</td>\n",
       "      <td>44.24</td>\n",
       "      <td>30.47</td>\n",
       "      <td>1.00</td>\n",
       "      <td>18.00</td>\n",
       "      <td>37.00</td>\n",
       "      <td>72.00</td>\n",
       "      <td>99.00</td>\n",
       "    </tr>\n",
       "    <tr>\n",
       "      <th>weekly_sales</th>\n",
       "      <td>380107.00</td>\n",
       "      <td>16025.13</td>\n",
       "      <td>22802.10</td>\n",
       "      <td>-4988.94</td>\n",
       "      <td>2095.27</td>\n",
       "      <td>7633.91</td>\n",
       "      <td>20272.87</td>\n",
       "      <td>693099.36</td>\n",
       "    </tr>\n",
       "  </tbody>\n",
       "</table>\n",
       "</div>"
      ],
      "text/plain": [
       "                 count      mean      std      min      25%       50%  \\\n",
       "store        380107.00     22.19    12.78     1.00    11.00     22.00   \n",
       "temperature  380107.00     58.87    18.63    -2.06    45.42     60.13   \n",
       "fuel_price   380107.00      3.32     0.45     2.47     2.88      3.35   \n",
       "markdown1    109526.00   7211.49  8428.39     0.50  2240.27   5425.30   \n",
       "markdown2     86231.00   4278.21 10576.70  -265.76    75.36    396.61   \n",
       "markdown3     99205.00   1975.30 11266.25   -29.10     5.59     33.85   \n",
       "markdown4     97626.00   3368.66  6867.91     0.46   446.42   1350.20   \n",
       "markdown5    109969.00   4825.76  6694.57   135.16  1889.95   3374.90   \n",
       "cpi          380107.00    170.71    38.95   126.06   131.98    182.26   \n",
       "unemployment 380107.00      8.05     1.86     4.08     6.99      7.93   \n",
       "size         380107.00 136769.43 60960.76 34875.00 93638.00 140167.00   \n",
       "dept         380107.00     44.24    30.47     1.00    18.00     37.00   \n",
       "weekly_sales 380107.00  16025.13 22802.10 -4988.94  2095.27   7633.91   \n",
       "\n",
       "                   75%       max  \n",
       "store            33.00     45.00  \n",
       "temperature      73.25    100.14  \n",
       "fuel_price        3.70      4.31  \n",
       "markdown1      9173.97  88646.76  \n",
       "markdown2      3682.17 104519.54  \n",
       "markdown3       159.04 141630.61  \n",
       "markdown4      3373.11  67474.85  \n",
       "markdown5      5539.68 108519.28  \n",
       "cpi             211.77    225.69  \n",
       "unemployment      8.60     14.31  \n",
       "size         202505.00 219622.00  \n",
       "dept             72.00     99.00  \n",
       "weekly_sales  20272.87 693099.36  "
      ]
     },
     "execution_count": 20,
     "metadata": {},
     "output_type": "execute_result"
    }
   ],
   "source": [
    "num.describe().T"
   ]
  },
  {
   "cell_type": "markdown",
   "id": "cfcd7e25-d83d-4010-bb58-d56762e3015a",
   "metadata": {},
   "source": [
    "#### Nulos"
   ]
  },
  {
   "cell_type": "markdown",
   "id": "c633ab4e-42b2-49a9-b8b6-6872b4436bd9",
   "metadata": {},
   "source": [
    "* Se imputan los valores de markdown con 0, Asumiendo que los registros que tieien nan son dias sin descuentos"
   ]
  },
  {
   "cell_type": "code",
   "execution_count": 21,
   "id": "f8ab2888-2e0e-4d53-bc30-dc3c84a78e9f",
   "metadata": {},
   "outputs": [
    {
     "data": {
      "text/plain": [
       "markdown2       293876\n",
       "markdown4       282481\n",
       "markdown3       280902\n",
       "markdown1       270581\n",
       "markdown5       270138\n",
       "store                0\n",
       "temperature          0\n",
       "fuel_price           0\n",
       "cpi                  0\n",
       "unemployment         0\n",
       "size                 0\n",
       "dept                 0\n",
       "weekly_sales         0\n",
       "dtype: int64"
      ]
     },
     "execution_count": 21,
     "metadata": {},
     "output_type": "execute_result"
    }
   ],
   "source": [
    "num.isna().sum().sort_values(ascending = False)"
   ]
  },
  {
   "cell_type": "code",
   "execution_count": 22,
   "id": "66ebbf29-3ab1-4f05-b987-b6b9a42ce455",
   "metadata": {},
   "outputs": [],
   "source": [
    "columnas_a_rellenar = ['markdown1', 'markdown2','markdown3', 'markdown4', 'markdown5']"
   ]
  },
  {
   "cell_type": "code",
   "execution_count": 23,
   "id": "53e1268e-17ff-4d34-9181-49c0dc335da4",
   "metadata": {},
   "outputs": [],
   "source": [
    "num[columnas_a_rellenar] = num[columnas_a_rellenar].fillna(0)"
   ]
  },
  {
   "cell_type": "code",
   "execution_count": 24,
   "id": "cebf8819-81b1-47a9-9294-29971ba6d4a0",
   "metadata": {},
   "outputs": [
    {
     "data": {
      "text/plain": [
       "store           0\n",
       "temperature     0\n",
       "fuel_price      0\n",
       "markdown1       0\n",
       "markdown2       0\n",
       "markdown3       0\n",
       "markdown4       0\n",
       "markdown5       0\n",
       "cpi             0\n",
       "unemployment    0\n",
       "size            0\n",
       "dept            0\n",
       "weekly_sales    0\n",
       "dtype: int64"
      ]
     },
     "execution_count": 24,
     "metadata": {},
     "output_type": "execute_result"
    }
   ],
   "source": [
    "num.isna().sum()"
   ]
  },
  {
   "cell_type": "markdown",
   "id": "3907a447-6e36-4b0e-8635-42d742fe3d3b",
   "metadata": {},
   "source": [
    "* Se ve la correlacion entre las variables markdown con un mapa de calor"
   ]
  },
  {
   "cell_type": "code",
   "execution_count": 25,
   "id": "70302605-ea9b-4512-8f57-47649fb1380f",
   "metadata": {},
   "outputs": [
    {
     "data": {
      "image/png": "[encoded data removed]",
      "text/plain": [
       "<Figure size 1000x800 with 2 Axes>"
      ]
     },
     "metadata": {},
     "output_type": "display_data"
    }
   ],
   "source": [
    "num_corr = num[['markdown1', 'markdown2', 'markdown3', 'markdown4', 'markdown5']].corr()\n",
    "plt.figure(figsize=(10, 8))\n",
    "sns.heatmap(num_corr, annot=True, cmap='coolwarm', fmt='.2f', square=True)\n",
    "plt.title('Matriz de Correlación de Variables Markdown')\n",
    "plt.show()\n"
   ]
  },
  {
   "cell_type": "markdown",
   "id": "cb1c56d8-385b-4b92-8960-5d5ab2ff1927",
   "metadata": {},
   "source": [
    "* Se analiza mas a detalle la fluctuacion de las varaibels markdown1 y markdown4 ya que mostraron correlación positiva"
   ]
  },
  {
   "cell_type": "code",
   "execution_count": 26,
   "id": "82fd638f-e26d-4e08-8d51-48767d8c4974",
   "metadata": {},
   "outputs": [
    {
     "data": {
      "image/png": "[encoded data removed]",
      "text/plain": [
       "<Figure size 1000x600 with 1 Axes>"
      ]
     },
     "metadata": {},
     "output_type": "display_data"
    }
   ],
   "source": [
    "plt.figure(figsize=(10, 6))\n",
    "plt.plot(df.index, df['markdown1'], label='markdown1')\n",
    "plt.plot(df.index, df['markdown4'], label='markdown4')\n",
    "plt.xlabel('Fecha')\n",
    "plt.ylabel('Valor de Markdown')\n",
    "plt.title('Evolución de Markdown1 y Markdown2')\n",
    "plt.grid(True)\n",
    "plt.show()\n"
   ]
  },
  {
   "cell_type": "code",
   "execution_count": 27,
   "id": "d607f215-9bbc-445d-be40-72bd3d122a00",
   "metadata": {},
   "outputs": [
    {
     "data": {
      "text/html": [
       "<div>\n",
       "<style scoped>\n",
       "    .dataframe tbody tr th:only-of-type {\n",
       "        vertical-align: middle;\n",
       "    }\n",
       "\n",
       "    .dataframe tbody tr th {\n",
       "        vertical-align: top;\n",
       "    }\n",
       "\n",
       "    .dataframe thead th {\n",
       "        text-align: right;\n",
       "    }\n",
       "</style>\n",
       "<table border=\"1\" class=\"dataframe\">\n",
       "  <thead>\n",
       "    <tr style=\"text-align: right;\">\n",
       "      <th></th>\n",
       "      <th>count</th>\n",
       "      <th>mean</th>\n",
       "      <th>std</th>\n",
       "      <th>min</th>\n",
       "      <th>25%</th>\n",
       "      <th>50%</th>\n",
       "      <th>75%</th>\n",
       "      <th>max</th>\n",
       "    </tr>\n",
       "  </thead>\n",
       "  <tbody>\n",
       "    <tr>\n",
       "      <th>store</th>\n",
       "      <td>380107.00</td>\n",
       "      <td>22.19</td>\n",
       "      <td>12.78</td>\n",
       "      <td>1.00</td>\n",
       "      <td>11.00</td>\n",
       "      <td>22.00</td>\n",
       "      <td>33.00</td>\n",
       "      <td>45.00</td>\n",
       "    </tr>\n",
       "    <tr>\n",
       "      <th>temperature</th>\n",
       "      <td>380107.00</td>\n",
       "      <td>58.87</td>\n",
       "      <td>18.63</td>\n",
       "      <td>-2.06</td>\n",
       "      <td>45.42</td>\n",
       "      <td>60.13</td>\n",
       "      <td>73.25</td>\n",
       "      <td>100.14</td>\n",
       "    </tr>\n",
       "    <tr>\n",
       "      <th>fuel_price</th>\n",
       "      <td>380107.00</td>\n",
       "      <td>3.32</td>\n",
       "      <td>0.45</td>\n",
       "      <td>2.47</td>\n",
       "      <td>2.88</td>\n",
       "      <td>3.35</td>\n",
       "      <td>3.70</td>\n",
       "      <td>4.31</td>\n",
       "    </tr>\n",
       "    <tr>\n",
       "      <th>markdown1</th>\n",
       "      <td>380107.00</td>\n",
       "      <td>2077.96</td>\n",
       "      <td>5579.99</td>\n",
       "      <td>0.00</td>\n",
       "      <td>0.00</td>\n",
       "      <td>0.00</td>\n",
       "      <td>577.20</td>\n",
       "      <td>88646.76</td>\n",
       "    </tr>\n",
       "    <tr>\n",
       "      <th>markdown2</th>\n",
       "      <td>380107.00</td>\n",
       "      <td>970.55</td>\n",
       "      <td>5346.78</td>\n",
       "      <td>-265.76</td>\n",
       "      <td>0.00</td>\n",
       "      <td>0.00</td>\n",
       "      <td>0.00</td>\n",
       "      <td>104519.54</td>\n",
       "    </tr>\n",
       "    <tr>\n",
       "      <th>markdown3</th>\n",
       "      <td>380107.00</td>\n",
       "      <td>515.54</td>\n",
       "      <td>5820.62</td>\n",
       "      <td>-29.10</td>\n",
       "      <td>0.00</td>\n",
       "      <td>0.00</td>\n",
       "      <td>0.52</td>\n",
       "      <td>141630.61</td>\n",
       "    </tr>\n",
       "    <tr>\n",
       "      <th>markdown4</th>\n",
       "      <td>380107.00</td>\n",
       "      <td>865.20</td>\n",
       "      <td>3778.95</td>\n",
       "      <td>0.00</td>\n",
       "      <td>0.00</td>\n",
       "      <td>0.00</td>\n",
       "      <td>10.16</td>\n",
       "      <td>67474.85</td>\n",
       "    </tr>\n",
       "    <tr>\n",
       "      <th>markdown5</th>\n",
       "      <td>380107.00</td>\n",
       "      <td>1396.14</td>\n",
       "      <td>4213.58</td>\n",
       "      <td>0.00</td>\n",
       "      <td>0.00</td>\n",
       "      <td>0.00</td>\n",
       "      <td>1276.15</td>\n",
       "      <td>108519.28</td>\n",
       "    </tr>\n",
       "    <tr>\n",
       "      <th>cpi</th>\n",
       "      <td>380107.00</td>\n",
       "      <td>170.71</td>\n",
       "      <td>38.95</td>\n",
       "      <td>126.06</td>\n",
       "      <td>131.98</td>\n",
       "      <td>182.26</td>\n",
       "      <td>211.77</td>\n",
       "      <td>225.69</td>\n",
       "    </tr>\n",
       "    <tr>\n",
       "      <th>unemployment</th>\n",
       "      <td>380107.00</td>\n",
       "      <td>8.05</td>\n",
       "      <td>1.86</td>\n",
       "      <td>4.08</td>\n",
       "      <td>6.99</td>\n",
       "      <td>7.93</td>\n",
       "      <td>8.60</td>\n",
       "      <td>14.31</td>\n",
       "    </tr>\n",
       "    <tr>\n",
       "      <th>size</th>\n",
       "      <td>380107.00</td>\n",
       "      <td>136769.43</td>\n",
       "      <td>60960.76</td>\n",
       "      <td>34875.00</td>\n",
       "      <td>93638.00</td>\n",
       "      <td>140167.00</td>\n",
       "      <td>202505.00</td>\n",
       "      <td>219622.00</td>\n",
       "    </tr>\n",
       "    <tr>\n",
       "      <th>dept</th>\n",
       "      <td>380107.00</td>\n",
       "      <td>44.24</td>\n",
       "      <td>30.47</td>\n",
       "      <td>1.00</td>\n",
       "      <td>18.00</td>\n",
       "      <td>37.00</td>\n",
       "      <td>72.00</td>\n",
       "      <td>99.00</td>\n",
       "    </tr>\n",
       "    <tr>\n",
       "      <th>weekly_sales</th>\n",
       "      <td>380107.00</td>\n",
       "      <td>16025.13</td>\n",
       "      <td>22802.10</td>\n",
       "      <td>-4988.94</td>\n",
       "      <td>2095.27</td>\n",
       "      <td>7633.91</td>\n",
       "      <td>20272.87</td>\n",
       "      <td>693099.36</td>\n",
       "    </tr>\n",
       "  </tbody>\n",
       "</table>\n",
       "</div>"
      ],
      "text/plain": [
       "                 count      mean      std      min      25%       50%  \\\n",
       "store        380107.00     22.19    12.78     1.00    11.00     22.00   \n",
       "temperature  380107.00     58.87    18.63    -2.06    45.42     60.13   \n",
       "fuel_price   380107.00      3.32     0.45     2.47     2.88      3.35   \n",
       "markdown1    380107.00   2077.96  5579.99     0.00     0.00      0.00   \n",
       "markdown2    380107.00    970.55  5346.78  -265.76     0.00      0.00   \n",
       "markdown3    380107.00    515.54  5820.62   -29.10     0.00      0.00   \n",
       "markdown4    380107.00    865.20  3778.95     0.00     0.00      0.00   \n",
       "markdown5    380107.00   1396.14  4213.58     0.00     0.00      0.00   \n",
       "cpi          380107.00    170.71    38.95   126.06   131.98    182.26   \n",
       "unemployment 380107.00      8.05     1.86     4.08     6.99      7.93   \n",
       "size         380107.00 136769.43 60960.76 34875.00 93638.00 140167.00   \n",
       "dept         380107.00     44.24    30.47     1.00    18.00     37.00   \n",
       "weekly_sales 380107.00  16025.13 22802.10 -4988.94  2095.27   7633.91   \n",
       "\n",
       "                   75%       max  \n",
       "store            33.00     45.00  \n",
       "temperature      73.25    100.14  \n",
       "fuel_price        3.70      4.31  \n",
       "markdown1       577.20  88646.76  \n",
       "markdown2         0.00 104519.54  \n",
       "markdown3         0.52 141630.61  \n",
       "markdown4        10.16  67474.85  \n",
       "markdown5      1276.15 108519.28  \n",
       "cpi             211.77    225.69  \n",
       "unemployment      8.60     14.31  \n",
       "size         202505.00 219622.00  \n",
       "dept             72.00     99.00  \n",
       "weekly_sales  20272.87 693099.36  "
      ]
     },
     "execution_count": 27,
     "metadata": {},
     "output_type": "execute_result"
    }
   ],
   "source": [
    "num.describe().T"
   ]
  },
  {
   "cell_type": "markdown",
   "id": "2eadf3f1-1412-4c35-b2da-054b9206b9e9",
   "metadata": {},
   "source": [
    "* Se ve la distribucion de la variables markdown1"
   ]
  },
  {
   "cell_type": "code",
   "execution_count": 28,
   "id": "3b9db7eb-1ec6-4a85-964a-fdf665131bb3",
   "metadata": {},
   "outputs": [
    {
     "data": {
      "image/png": "[encoded data removed]",
      "text/plain": [
       "<Figure size 1000x600 with 1 Axes>"
      ]
     },
     "metadata": {},
     "output_type": "display_data"
    }
   ],
   "source": [
    "plt.figure(figsize=(10, 6))\n",
    "sns.histplot(num['markdown1'], kde=True, bins=30, color='blue', alpha=0.7, stat='density')\n",
    "plt.xlabel('Markdown1')\n",
    "plt.ylabel('Density')\n",
    "plt.title('Distribution of Markdown1')\n",
    "plt.show()\n"
   ]
  },
  {
   "cell_type": "markdown",
   "id": "f1fa7edf-67f4-45d2-afbd-a2526afc0923",
   "metadata": {},
   "source": [
    "* Se grafica la evolución del CPI y se concluye que es conveniente imputar con algun metodo de interpolacion por su estructura temporal"
   ]
  },
  {
   "cell_type": "code",
   "execution_count": 29,
   "id": "06bcb82d-f671-4d15-9387-089f7819a845",
   "metadata": {},
   "outputs": [
    {
     "data": {
      "image/png": "[encoded data removed]",
      "text/plain": [
       "<Figure size 1200x600 with 1 Axes>"
      ]
     },
     "metadata": {},
     "output_type": "display_data"
    }
   ],
   "source": [
    "import matplotlib.pyplot as plt\n",
    "\n",
    "# Agrupar por fecha y calcular el promedio del CPI\n",
    "num_grouped = num.groupby(num.index).mean()\n",
    "\n",
    "plt.figure(figsize=(12, 6))\n",
    "plt.plot(num_grouped.index, num_grouped['cpi'], marker='o', linestyle='-', color='b')\n",
    "plt.title('Evolución del CPI para la Tienda 1')\n",
    "plt.xlabel('Fecha')\n",
    "plt.ylabel('CPI')\n",
    "plt.grid(True)\n",
    "plt.xticks(rotation=45)\n",
    "plt.tight_layout()\n",
    "plt.show()\n"
   ]
  },
  {
   "cell_type": "code",
   "execution_count": 30,
   "id": "2322fb40-d261-48ee-9cf9-c1450422c205",
   "metadata": {},
   "outputs": [],
   "source": [
    "num['cpi'] = num['cpi'].interpolate(method='linear')"
   ]
  },
  {
   "cell_type": "markdown",
   "id": "20dac99d-2596-4660-932a-79a381fdaa09",
   "metadata": {},
   "source": [
    "* Se grafica la evolución del unemployment y se concluye que es conveniente imputar con algun metodo de interpolacion por su estructura temporal"
   ]
  },
  {
   "cell_type": "code",
   "execution_count": 31,
   "id": "3a90c746-31c7-4577-b78d-ba3c940595d9",
   "metadata": {},
   "outputs": [
    {
     "data": {
      "image/png": "[encoded data removed]",
      "text/plain": [
       "<Figure size 1200x600 with 1 Axes>"
      ]
     },
     "metadata": {},
     "output_type": "display_data"
    }
   ],
   "source": [
    "import matplotlib.pyplot as plt\n",
    "\n",
    "# Agrupar por fecha y calcular el promedio del CPI\n",
    "unemployment_grouped = num.groupby(num.index).mean()\n",
    "\n",
    "plt.figure(figsize=(12, 6))\n",
    "plt.plot(unemployment_grouped.index, unemployment_grouped['unemployment'], marker='o', linestyle='-', color='b')\n",
    "plt.title('Evolución del unemployment para la Tienda 1')\n",
    "plt.xlabel('Fecha')\n",
    "plt.ylabel('unemployment')\n",
    "plt.grid(True)\n",
    "plt.xticks(rotation=45)\n",
    "plt.tight_layout()\n",
    "plt.show()"
   ]
  },
  {
   "cell_type": "code",
   "execution_count": 32,
   "id": "445ea07a-41a8-4e42-a0e3-f90879767aaa",
   "metadata": {},
   "outputs": [],
   "source": [
    "num['unemployment'] = num['unemployment'].interpolate(method='linear')"
   ]
  },
  {
   "cell_type": "code",
   "execution_count": 33,
   "id": "ca86013c-4196-4730-ae97-593e41ef8bd7",
   "metadata": {},
   "outputs": [
    {
     "data": {
      "text/plain": [
       "store           0\n",
       "temperature     0\n",
       "fuel_price      0\n",
       "markdown1       0\n",
       "markdown2       0\n",
       "markdown3       0\n",
       "markdown4       0\n",
       "markdown5       0\n",
       "cpi             0\n",
       "unemployment    0\n",
       "size            0\n",
       "dept            0\n",
       "weekly_sales    0\n",
       "dtype: int64"
      ]
     },
     "execution_count": 33,
     "metadata": {},
     "output_type": "execute_result"
    }
   ],
   "source": [
    "num.isna().sum()"
   ]
  },
  {
   "cell_type": "code",
   "execution_count": 34,
   "id": "3672b910-7e0e-4819-a509-4dfa33d13fbd",
   "metadata": {},
   "outputs": [
    {
     "data": {
      "text/plain": [
       "isholiday    0\n",
       "type         0\n",
       "dtype: int64"
      ]
     },
     "execution_count": 34,
     "metadata": {},
     "output_type": "execute_result"
    }
   ],
   "source": [
    "cat.isna().sum()"
   ]
  },
  {
   "cell_type": "markdown",
   "id": "c533dcaf-5acf-4d11-923a-abdcc272d7d3",
   "metadata": {},
   "source": [
    "### Atípicos"
   ]
  },
  {
   "cell_type": "markdown",
   "id": "f577caba-7425-48de-91d0-256e3e0dcfef",
   "metadata": {},
   "source": [
    "* Se analizaron atipicos de variables categoricas y continuas. En continuas se encontraron variables con distribución long tail, típicas del sector retail. Se decidió no hacer nada por el momento. Volverá a analizarse en la etapa de EDA."
   ]
  },
  {
   "cell_type": "markdown",
   "id": "212cbbf2-d048-446e-9741-065332f6049b",
   "metadata": {},
   "source": [
    "### Guardar datasets tras calidad de datos"
   ]
  },
  {
   "cell_type": "markdown",
   "id": "a8c4e75c-b6b0-4eb8-a0fc-e4663d5e8a37",
   "metadata": {},
   "source": [
    "#### Definición nombre de archivos"
   ]
  },
  {
   "cell_type": "code",
   "execution_count": 35,
   "id": "4a3d51a4-eeec-4e59-a897-b26bf312fd5f",
   "metadata": {},
   "outputs": [],
   "source": [
    "ruta_trabajo = ruta_proyecto + '/02_Datos/03_Trabajo/' + 'trabajo_resultado_calidad.pickle'\n",
    "ruta_cat = ruta_proyecto + '/02_Datos/03_Trabajo/' + 'cat_resultado_calidad.pickle'\n",
    "ruta_num = ruta_proyecto + '/02_Datos/03_Trabajo/' + 'num_resultado_calidad.pickle'"
   ]
  },
  {
   "cell_type": "markdown",
   "id": "2220a35e-80ea-4358-8ed0-cf3a26304363",
   "metadata": {},
   "source": [
    "#### Guardar los archivos"
   ]
  },
  {
   "cell_type": "code",
   "execution_count": 36,
   "id": "07da4383-d39f-4f25-80cd-ece4b06de9f5",
   "metadata": {},
   "outputs": [],
   "source": [
    "df.to_pickle(ruta_trabajo)\n",
    "cat.to_pickle(ruta_cat)\n",
    "num.to_pickle(ruta_num)"
   ]
  },
  {
   "cell_type": "code",
   "execution_count": null,
   "id": "f5a10f14-280c-413e-86ce-cc71489ab4dc",
   "metadata": {},
   "outputs": [],
   "source": []
  }
 ],
 "metadata": {
  "kernelspec": {
   "display_name": "Python 3 (ipykernel)",
   "language": "python",
   "name": "python3"
  },
  "language_info": {
   "codemirror_mode": {
    "name": "ipython",
    "version": 3
   },
   "file_extension": ".py",
   "mimetype": "text/x-python",
   "name": "python",
   "nbconvert_exporter": "python",
   "pygments_lexer": "ipython3",
   "version": "3.12.3"
  }
 },
 "nbformat": 4,
 "nbformat_minor": 5
}
